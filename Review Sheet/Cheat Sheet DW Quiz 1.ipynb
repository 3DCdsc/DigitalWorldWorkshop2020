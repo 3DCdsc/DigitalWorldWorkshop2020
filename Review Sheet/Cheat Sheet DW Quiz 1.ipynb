{
 "cells": [
  {
   "cell_type": "markdown",
   "metadata": {},
   "source": [
    "# Cheat Sheet\n",
    "\n",
    "![3DC](3DC.png)"
   ]
  },
  {
   "cell_type": "markdown",
   "metadata": {},
   "source": [
    "## Numerical Operators and PEDMAS\n",
    "### Numerical Operators\n",
    "In python arithmetic operators are used with numeric values to perform common numerical operations\n",
    "\n",
    "<img src=\"https://lam-programming.weebly.com/uploads/2/3/3/2/23323570/screenshot-2018-12-11-11-57-08_orig.png\">"
   ]
  },
  {
   "cell_type": "markdown",
   "metadata": {},
   "source": [
    "The order of precedence follows the PEMDAS rule: \n",
    "<img src=\"https://www.onlinemath4all.com/images/xpemdas.png.pagespeed.ic.-W58nCUGLM.png\">\n",
    "Since Parantheses has priority, it can be used to ensure precedence."
   ]
  },
  {
   "cell_type": "markdown",
   "metadata": {},
   "source": [
    "---"
   ]
  },
  {
   "cell_type": "markdown",
   "metadata": {},
   "source": [
    "## Lists\n",
    "### List Creation"
   ]
  },
  {
   "cell_type": "code",
   "execution_count": 1,
   "metadata": {},
   "outputs": [
    {
     "name": "stdout",
     "output_type": "stream",
     "text": [
      "[] | <class 'list'>\n",
      "[] | <class 'list'>\n"
     ]
    }
   ],
   "source": [
    "# create empty list\n",
    "names = []\n",
    "cities = list()\n",
    "\n",
    "print(names, type(names), sep=\" | \")\n",
    "print(cities, type(cities), sep=\" | \")"
   ]
  },
  {
   "cell_type": "markdown",
   "metadata": {},
   "source": [
    "### Add new items "
   ]
  },
  {
   "cell_type": "code",
   "execution_count": 2,
   "metadata": {},
   "outputs": [
    {
     "name": "stdout",
     "output_type": "stream",
     "text": [
      "['Eve', 'Katy', 'Rachel', 'Phoebe', 'Annabelle', 'Adele']\n",
      "['Tokyo', 'Singapore', 'New York City', 'Shanghai', 'KL', 'Manila', 'Jakarta', 'Seoul', 'Bangkok']\n"
     ]
    }
   ],
   "source": [
    "names.append(\"Eve\")\n",
    "names.append(\"Katy\")\n",
    "names.append(\"Rachel\")\n",
    "names.append(\"Phoebe\")\n",
    "names.append(\"Annabelle\")\n",
    "names.append(\"Adele\")\n",
    "print(names)\n",
    "\n",
    "cities = [\"Tokyo\", \"Singapore\", \"New York City\", \"Shanghai\", \"KL\", \"Manila\", \"Jakarta\", \"Seoul\", \"Bangkok\"]\n",
    "print(cities)\n"
   ]
  },
  {
   "cell_type": "markdown",
   "metadata": {},
   "source": [
    "### Access items(s) in a List"
   ]
  },
  {
   "cell_type": "code",
   "execution_count": 3,
   "metadata": {},
   "outputs": [
    {
     "name": "stdout",
     "output_type": "stream",
     "text": [
      "Eve\n",
      "Phoebe\n",
      "Adele\n",
      "Annabelle\n",
      "\n",
      "Hello, Eve\n",
      "Hello, Katy\n",
      "Hello, Rachel\n",
      "Hello, Phoebe\n",
      "Hello, Annabelle\n",
      "Hello, Adele\n",
      "\n",
      "Hello, Eve\n",
      "Hello, Katy\n",
      "Hello, Rachel\n",
      "Hello, Phoebe\n",
      "Hello, Annabelle\n",
      "Hello, Adele\n",
      "\n",
      "0 | Eve\n",
      "1 | Katy\n",
      "2 | Rachel\n",
      "3 | Phoebe\n",
      "4 | Annabelle\n",
      "5 | Adele\n"
     ]
    }
   ],
   "source": [
    "# access by a specific index\n",
    "print(names[0])\n",
    "print(names[3])\n",
    "print(names[-1])\n",
    "print(names[-2])\n",
    "\n",
    "print() # just to print a line break\n",
    "\n",
    "# traverse all items in a list\n",
    "for name in names:\n",
    "  print(\"Hello,\", name)\n",
    "\n",
    "print() # just to print a line break\n",
    "\n",
    "# this will show you \"i\" is an arbitrary temporary variable name\n",
    "# below will produce the same output as above\n",
    "for i in names:\n",
    "  print(\"Hello,\", i)\n",
    "\n",
    "print() # just to print a line break\n",
    "\n",
    "# sometimes indexes are useful \n",
    "# how to get the item and its index at the same time? \n",
    "for index, name in enumerate(names):\n",
    "  print(index, name, sep=\" | \")"
   ]
  },
  {
   "cell_type": "markdown",
   "metadata": {},
   "source": [
    "### Count number of items in a List"
   ]
  },
  {
   "cell_type": "code",
   "execution_count": 4,
   "metadata": {},
   "outputs": [
    {
     "name": "stdout",
     "output_type": "stream",
     "text": [
      "6\n",
      "9\n",
      "['Eve', 'Katy', 'Rachel', 'Phoebe', 'Annabelle', 'Adele', 'Adele', 'Adele', 'Adele']\n"
     ]
    }
   ],
   "source": [
    "length = len(names)\n",
    "print(length)\n",
    "\n",
    "names.append(\"Adele\") # this shows List can contain multiple identical objects\n",
    "names.append(\"Adele\")\n",
    "names.append(\"Adele\")\n",
    "print(len(names))\n",
    "print(names)"
   ]
  },
  {
   "cell_type": "markdown",
   "metadata": {},
   "source": [
    "### Remove items from a list"
   ]
  },
  {
   "cell_type": "code",
   "execution_count": 5,
   "metadata": {},
   "outputs": [
    {
     "name": "stdout",
     "output_type": "stream",
     "text": [
      "['Katy', 'Rachel', 'Phoebe', 'Annabelle', 'Adele', 'Adele', 'Adele', 'Adele']\n",
      "\n",
      "removed name: Katy\n",
      "['Rachel', 'Phoebe', 'Annabelle', 'Adele', 'Adele', 'Adele', 'Adele']\n",
      "\n",
      "['Rachel', 'Phoebe', 'Annabelle', 'Adele', 'Adele', 'Adele']\n",
      "\n",
      "# 01: ['Rachel', 'Phoebe', 'Annabelle', 'Adele', 'Adele']\n",
      "# 02: ['Rachel', 'Phoebe', 'Annabelle', 'Adele']\n",
      "# 03: ['Rachel', 'Phoebe', 'Annabelle']\n"
     ]
    }
   ],
   "source": [
    "# remove an item at specific index\n",
    "# method 1: del\n",
    "del names[0]\n",
    "print(names)\n",
    "print()\n",
    "\n",
    "# method 2: pop\n",
    "removed_name = names.pop(0) # pop() also returns the item being deleted\n",
    "print(\"removed name:\", removed_name)\n",
    "print(names)\n",
    "print()\n",
    "\n",
    "# remove an item with specific value\n",
    "names.remove(\"Adele\") # this will remove the first occurrence of 'Adele' only\n",
    "print(names)\n",
    "print()\n",
    "\n",
    "# remove the last item from a List\n",
    "names.pop() # 01\n",
    "print(\"# 01:\", names)\n",
    "\n",
    "names.pop(-1) # 02\n",
    "print(\"# 02:\", names)\n",
    "\n",
    "del names[-1] # 03\n",
    "print(\"# 03:\", names)"
   ]
  },
  {
   "cell_type": "markdown",
   "metadata": {},
   "source": [
    "### List Slicing"
   ]
  },
  {
   "cell_type": "code",
   "execution_count": 6,
   "metadata": {},
   "outputs": [
    {
     "name": "stdout",
     "output_type": "stream",
     "text": [
      "['Rachel', 'Phoebe', 'Annabelle']\n",
      "['Eve', 'Katy', 'Rachel']\n",
      "['Phoebe', 'Annabelle', 'Adele']\n"
     ]
    }
   ],
   "source": [
    "names = ['Rachel', 'Phoebe', 'Annabelle', 'Eve', 'Katy', 'Rachel', 'Phoebe', 'Annabelle', 'Adele']\n",
    "class_01 = names[:3]\n",
    "class_02 = names[3:6]\n",
    "class_03 = names[6:]\n",
    "\n",
    "print(class_01)\n",
    "print(class_02)\n",
    "print(class_03)"
   ]
  },
  {
   "cell_type": "markdown",
   "metadata": {},
   "source": [
    "### List Concatenation (Join 2 lists)"
   ]
  },
  {
   "cell_type": "code",
   "execution_count": 7,
   "metadata": {},
   "outputs": [
    {
     "name": "stdout",
     "output_type": "stream",
     "text": [
      "cities: ['Tokyo', 'Singapore', 'Shanghai', 'Jakarta', 'Bangkok']\n",
      "american_cities: ['Los Angeles', 'Seattle', 'San Diego', 'Chicago']\n",
      "cities: ['Tokyo', 'Singapore', 'Shanghai', 'Jakarta', 'Bangkok', 'Los Angeles', 'Seattle', 'San Diego', 'Chicago', 'Los Angeles', 'Seattle', 'San Diego', 'Chicago']\n"
     ]
    }
   ],
   "source": [
    "cities = [\"Tokyo\", \"Singapore\", \"Shanghai\", \"Jakarta\", \"Bangkok\"]\n",
    "american_cities = [\"Los Angeles\", \"Seattle\", \"San Diego\", \"Chicago\"]\n",
    "\n",
    "print(\"cities:\", cities)\n",
    "print(\"american_cities:\", american_cities)\n",
    "\n",
    "# you can do this \n",
    "for city in american_cities:\n",
    "  cities.append(city)\n",
    "\n",
    "# or more succinctly \n",
    "cities = cities + american_cities\n",
    "\n",
    "print(\"cities:\", cities)"
   ]
  },
  {
   "cell_type": "markdown",
   "metadata": {},
   "source": [
    "### Remove duplicates from list"
   ]
  },
  {
   "cell_type": "code",
   "execution_count": 8,
   "metadata": {},
   "outputs": [
    {
     "name": "stdout",
     "output_type": "stream",
     "text": [
      "['Tokyo', 'Singapore', 'Shanghai', 'Jakarta', 'Bangkok', 'Los Angeles', 'Seattle', 'San Diego', 'Chicago', 'Los Angeles', 'Seattle', 'San Diego', 'Chicago']\n",
      "['Chicago', 'Shanghai', 'Tokyo', 'Los Angeles', 'Singapore', 'San Diego', 'Bangkok', 'Seattle', 'Jakarta']\n"
     ]
    }
   ],
   "source": [
    "print(cities)\n",
    "cities = list(set(cities))\n",
    "print(cities)"
   ]
  },
  {
   "cell_type": "markdown",
   "metadata": {},
   "source": [
    "---"
   ]
  },
  {
   "cell_type": "markdown",
   "metadata": {},
   "source": [
    "## Functions"
   ]
  },
  {
   "cell_type": "markdown",
   "metadata": {},
   "source": [
    "A function is a block of code which performs a specific task when called. A function accepts inputs as parameters and provides an output in the form of a result "
   ]
  },
  {
   "cell_type": "markdown",
   "metadata": {},
   "source": [
    "### Creating a Function\n",
    "A function is defined using the keyword def"
   ]
  },
  {
   "cell_type": "code",
   "execution_count": 9,
   "metadata": {},
   "outputs": [],
   "source": [
    "def hello_function():#keyword def is used for function definition\n",
    "    print(\"Hello World!\")#This function prints out “Hello World!” when called"
   ]
  },
  {
   "cell_type": "markdown",
   "metadata": {},
   "source": [
    "### Calling a Function\n",
    "A function is called by writing out the function name followed by parenthesis "
   ]
  },
  {
   "cell_type": "code",
   "execution_count": 10,
   "metadata": {},
   "outputs": [
    {
     "name": "stdout",
     "output_type": "stream",
     "text": [
      "Hello World!\n"
     ]
    }
   ],
   "source": [
    "def hello_function():\n",
    "    print(\"Hello World!\")\n",
    "\n",
    "hello_function() \t#The function is called in this statement"
   ]
  },
  {
   "cell_type": "markdown",
   "metadata": {},
   "source": [
    "### Arguments\n",
    "Information is passed on to the function in the form of an argument. It is specified after the function name within parenthesis. A function can have any number of arguments separated with a comma."
   ]
  },
  {
   "cell_type": "code",
   "execution_count": 11,
   "metadata": {},
   "outputs": [
    {
     "ename": "SyntaxError",
     "evalue": "invalid character in identifier (<ipython-input-11-29576cb6173a>, line 2)",
     "output_type": "error",
     "traceback": [
      "\u001b[0;36m  File \u001b[0;32m\"<ipython-input-11-29576cb6173a>\"\u001b[0;36m, line \u001b[0;32m2\u001b[0m\n\u001b[0;31m    print(“Hello” + name)\u001b[0m\n\u001b[0m                ^\u001b[0m\n\u001b[0;31mSyntaxError\u001b[0m\u001b[0;31m:\u001b[0m invalid character in identifier\n"
     ]
    }
   ],
   "source": [
    "def hello_name_function(name):   #The argument of the given function is name\n",
    "    print(\"Hello\"+name)"
   ]
  },
  {
   "cell_type": "markdown",
   "metadata": {},
   "source": [
    "The function must be called with the exact number of arguments as specified in the function definition. \n",
    "\n",
    "You can send any data types of argument to a function (string, number, list, dictionary etc.), and it will be treated as the same data type inside the function."
   ]
  },
  {
   "cell_type": "markdown",
   "metadata": {},
   "source": [
    "### Return Values\n",
    "The output of a function is specified as the return value of the function "
   ]
  },
  {
   "cell_type": "code",
   "execution_count": null,
   "metadata": {},
   "outputs": [],
   "source": [
    "def square_function(x):    #The function takes the number to be squared as the input\n",
    "    return x*x     #The function returns the square of the function when called \n",
    "\n",
    "square_function(2)"
   ]
  },
  {
   "cell_type": "markdown",
   "metadata": {},
   "source": [
    "---"
   ]
  },
  {
   "cell_type": "markdown",
   "metadata": {},
   "source": [
    "## Conditionals"
   ]
  },
  {
   "cell_type": "markdown",
   "metadata": {},
   "source": [
    "Python supports the following logical conditions for mathematics: \n",
    "- Equals: a==b \n",
    "- Not Equals: a!=b \n",
    "- Less Than: a<b \n",
    "- Greater Than: a>b \n",
    "- Lesser Than or Equal to: a<=b \n",
    "- Greater Than or Equal to: a>=b\n",
    "- And: a and b \n",
    "- Or: a or b"
   ]
  },
  {
   "cell_type": "markdown",
   "metadata": {},
   "source": [
    "### If Statement:\n",
    "The if statement in Python is written by using the keyword “if”. It is always necessary to use the correct indentation to avoid getting an error. "
   ]
  },
  {
   "cell_type": "code",
   "execution_count": null,
   "metadata": {},
   "outputs": [],
   "source": [
    "a = 400\n",
    "b = 300\n",
    "if a>b:    #This statement checks if the condition a being greater than b is satisfied \n",
    "    print(\"a is greater than b\")    #If the condition is satisfied this line is executed\n"
   ]
  },
  {
   "cell_type": "markdown",
   "metadata": {},
   "source": [
    "### Elif Statement:\n",
    "This statement is a way of saying “If the previous conditions fail but if this condition satisfied”. "
   ]
  },
  {
   "cell_type": "code",
   "execution_count": null,
   "metadata": {},
   "outputs": [],
   "source": [
    "a = 400\n",
    "b = 300\n",
    "if a>b: \n",
    "    print(\"a is greater than b\")\n",
    "elif a==b:         #This statement checks the new condition if the previous one fails \n",
    "    print(\"a is equal to be\")    #This line is executed if the new conditions is true\n"
   ]
  },
  {
   "cell_type": "markdown",
   "metadata": {},
   "source": [
    "### Else Statement:\n",
    "The else condition is used if all the previous statements are not satisfied \n"
   ]
  },
  {
   "cell_type": "code",
   "execution_count": null,
   "metadata": {},
   "outputs": [],
   "source": [
    "a = 400\n",
    "b = 300\n",
    "if a>b:\n",
    "    print(\"a is greater than b\")\n",
    "elif a==b: \n",
    "    print(\"a is equal to b\")\n",
    "else:        #This statement in this program accounts for the condition that a<b. \n",
    "    print(\"a is lesser than b\") \n"
   ]
  },
  {
   "cell_type": "markdown",
   "metadata": {},
   "source": [
    "### Nested If:\t\n",
    "An if statement within an if statement is a nested if statement"
   ]
  },
  {
   "cell_type": "code",
   "execution_count": null,
   "metadata": {},
   "outputs": [],
   "source": [
    "a = 400\n",
    "b = 300\n",
    "if a!=b:\n",
    "    if a>b:    #This is an example of an if statement used within an if statement\n",
    "        print(\"a greater than b\")\n",
    "    if a<b:\n",
    "        print(\"a lesser than b\")\n",
    "    if a==b:\n",
    "        print(\"a is equal to b\")\n"
   ]
  },
  {
   "cell_type": "markdown",
   "metadata": {},
   "source": [
    "---"
   ]
  },
  {
   "cell_type": "markdown",
   "metadata": {},
   "source": [
    "## While Loops\n",
    "### The Condition\n",
    "Using a while loop we can execute a set of statements as long as a given condition is satisfied"
   ]
  },
  {
   "cell_type": "code",
   "execution_count": null,
   "metadata": {},
   "outputs": [],
   "source": [
    "x = 1        #The initial value of x is 1\n",
    "while x<=5:  #As long as x is lesser than or equal to 5 the loop is executed \n",
    "    x += 1   #The x value keeps getting incremented by 1"
   ]
  },
  {
   "cell_type": "markdown",
   "metadata": {},
   "source": [
    "### The Break Statement\n",
    "The break statement can be used to break out of the while loop even when the given condition is satisfied"
   ]
  },
  {
   "cell_type": "code",
   "execution_count": null,
   "metadata": {},
   "outputs": [],
   "source": [
    "x = 1\n",
    "while x<=5:\n",
    "    x += 1 \n",
    "    if x==2:\n",
    "        break  \t#Even though x = 2 satisfies the condition the loop is broken "
   ]
  },
  {
   "cell_type": "markdown",
   "metadata": {},
   "source": [
    "### The Continue Statement\n",
    "Just like in the case of for loops, the continue statement allows the current iteration of the loop to be broken and moves to the next iteration "
   ]
  },
  {
   "cell_type": "code",
   "execution_count": null,
   "metadata": {},
   "outputs": [],
   "source": [
    "x = 1\n",
    "while x<=5:\n",
    "    x += 1 \n",
    "    if x==2:\n",
    "        continue  #Even though x = 2 satisfies the condition the current iteration is broken "
   ]
  },
  {
   "cell_type": "markdown",
   "metadata": {},
   "source": [
    "### The Else Statement \n",
    "The else statement can be used to execute a given block of code when the condition is not satisfied "
   ]
  },
  {
   "cell_type": "code",
   "execution_count": null,
   "metadata": {},
   "outputs": [],
   "source": [
    "x = 1\n",
    "while x<=5:\n",
    "    x += 1\n",
    "else:\n",
    "    print(\"The number is greater than 5\")   #This block of code is run when x>5"
   ]
  },
  {
   "cell_type": "markdown",
   "metadata": {},
   "source": [
    "---"
   ]
  },
  {
   "cell_type": "markdown",
   "metadata": {},
   "source": [
    "## For Loop\n",
    "A for loop in Python is used in iterating over a sequence (a list, tuple, set, dictionary or a string)"
   ]
  },
  {
   "cell_type": "code",
   "execution_count": null,
   "metadata": {},
   "outputs": [],
   "source": [
    "lst = [1,2,3,4]\n",
    "for i in lst:    #In this example the for loop is used to iterate over a list \n",
    "    print(i)"
   ]
  },
  {
   "cell_type": "markdown",
   "metadata": {},
   "source": [
    "### The Break Statement:\n",
    "The break statement is used to break the for loop before it has looped through all the items"
   ]
  },
  {
   "cell_type": "code",
   "execution_count": null,
   "metadata": {},
   "outputs": [],
   "source": [
    "lst = [1,2,3,4]\n",
    "\n",
    "for i in lst:\n",
    "    print(i)\n",
    "    if i==2:\n",
    "        break    # When i = 2 the loop is broken\n"
   ]
  },
  {
   "cell_type": "markdown",
   "metadata": {},
   "source": [
    "### The Continue Statement:\n",
    "The continue statement is used to break from the current iteration of the loop and continue with the next one\n"
   ]
  },
  {
   "cell_type": "code",
   "execution_count": null,
   "metadata": {},
   "outputs": [],
   "source": [
    "lst = [1,2,3,4]\n",
    "\n",
    "for i in lst:\n",
    "    print(i)\n",
    "    if i==2:\n",
    "        continue    #When i = 2 the current iteration of the loop is broken\n"
   ]
  },
  {
   "cell_type": "markdown",
   "metadata": {},
   "source": [
    "### The Range Function:\n",
    "The range() function returns a sequence of numbers, starting from 0 by default, and increments by 1 (by default), and ends at a specified number."
   ]
  },
  {
   "cell_type": "code",
   "execution_count": null,
   "metadata": {},
   "outputs": [],
   "source": [
    "for i in range(6):\n",
    "    print(i)    #Numbers from 0 to 5 are printed "
   ]
  },
  {
   "cell_type": "markdown",
   "metadata": {},
   "source": [
    "The range() function defaults to 0 as a starting value, however it is possible to specify the starting value by adding a parameter: range(2, 6), which means values from 2 to 6 (but not including 6):"
   ]
  },
  {
   "cell_type": "code",
   "execution_count": null,
   "metadata": {},
   "outputs": [],
   "source": [
    "for i in range(2,6):\n",
    "    print(i)    #Numbers from 2 to 6 not including 6 are printed"
   ]
  },
  {
   "cell_type": "markdown",
   "metadata": {},
   "source": [
    "The range() function defaults to increment the sequence by 1, however it is possible to specify the increment value by adding a third parameter: range(2, 30, 3):"
   ]
  },
  {
   "cell_type": "code",
   "execution_count": null,
   "metadata": {},
   "outputs": [],
   "source": [
    "for i in range(2,6,2):\n",
    "    print(i)    #Numbers 2,4 are printed \n"
   ]
  },
  {
   "cell_type": "markdown",
   "metadata": {},
   "source": [
    "---"
   ]
  },
  {
   "cell_type": "markdown",
   "metadata": {},
   "source": [
    "## Matplotlib\n",
    "Matplotlib is a Python 2D plotting library which produces publication quality figures in a variety of hardcopy formats and interactive environments across platforms. TL;DR: Matplotlib is used to plot graphs.\n",
    "\n",
    "### pyplot"
   ]
  },
  {
   "cell_type": "markdown",
   "metadata": {},
   "source": [
    "matplotlib.pyplot is a collection of command style functions that make matplotlib work like MATLAB. Each pyplot function makes some change to a figure: e.g., creates a figure, creates a plotting area in a figure, plots some lines in a plotting area, decorates the plot with labels, etc."
   ]
  },
  {
   "cell_type": "code",
   "execution_count": null,
   "metadata": {},
   "outputs": [],
   "source": [
    "import matplotlib.pyplot as plt\n",
    "\n",
    "%matplotlib inline \n",
    "#Jupyter plot formatting, should not be needed in other IDEs\n",
    "\n",
    "plt.plot([1, 2, 3, 4])\n",
    "plt.show()"
   ]
  },
  {
   "cell_type": "markdown",
   "metadata": {},
   "source": [
    "## Types of plots\n",
    "Using pyplot, you are able to plot these figures:\n",
    "\n",
    "- line plot (above)\n",
    "- scatter plot\n",
    "- histogram\n",
    "- box plot\n",
    "- bar plot"
   ]
  },
  {
   "cell_type": "markdown",
   "metadata": {},
   "source": [
    "### Scatter Plot\n",
    "plt.scatter(x,y) \n",
    "x and y can be lists for multiple points but lists must be of equal length."
   ]
  },
  {
   "cell_type": "code",
   "execution_count": null,
   "metadata": {},
   "outputs": [],
   "source": [
    "plt.scatter([1,3,5],[2,4,6]) #Point 1=(1,2), Point 2=(3,4), Point 3=(5,6)\n",
    "plt.show()"
   ]
  },
  {
   "cell_type": "markdown",
   "metadata": {},
   "source": [
    "### Histogram\n",
    "plt.hist(values,bins)\n",
    "bins are the bracket in which the values which fulfil the criteria will be tallied, and displayed as a bar.\n",
    "bins usually only include the left side value on the number line (smaller value), with the exception of the last bin, which is inclusive of both left and right values."
   ]
  },
  {
   "cell_type": "code",
   "execution_count": null,
   "metadata": {},
   "outputs": [],
   "source": [
    "x=[0,1,1.5,2,2.5,3,4,5]\n",
    "\n",
    "plt.hist(x,[0,1,2,3]) #2nd argument is the bins inside which the number of values are tallied 0<=x<1, 1<=x<2, 2<=x<=3"
   ]
  },
  {
   "cell_type": "markdown",
   "metadata": {},
   "source": [
    "### Box Plot\n",
    "Box plot is really useful for easily determining the median, upper quartile and lower quartile.\n",
    "The points outside of the whiskers are known as outliers. "
   ]
  },
  {
   "cell_type": "code",
   "execution_count": null,
   "metadata": {},
   "outputs": [],
   "source": [
    "import numpy as np\n",
    "spread = np.random.rand(50) * 100\n",
    "center = np.ones(25) * 50\n",
    "flier_high = np.random.rand(10) * 100 + 100\n",
    "flier_low = np.random.rand(10) * -100\n",
    "data = np.concatenate((spread, center, flier_high, flier_low))\n",
    "#randomly generate values\n",
    "\n",
    "plt.boxplot(data)\n",
    "plt.title('box plot')"
   ]
  },
  {
   "cell_type": "markdown",
   "metadata": {},
   "source": [
    "### Bar Plot\n",
    "There are compulsory parameters in plt.bar(), first is the label of each bar. Below, this is in the form of a list called labels, containing the strings \"A\" and \"B\". Next parameter is the height, this is in [len(A),len(B)]. These 2 parameters are sufficient to plot a bar plots. Bar plots are important in comparing values of different categories, eg number of catlovers vs doglovers in SUTD"
   ]
  },
  {
   "cell_type": "code",
   "execution_count": null,
   "metadata": {},
   "outputs": [],
   "source": [
    "performance = [10,8,6,4,2,1]\n",
    "labels=[\"A\",\"B\"]\n",
    "A=[]\n",
    "B=[]\n",
    "for i in performance:\n",
    "    if i<5:\n",
    "        A+=[i]\n",
    "    else:\n",
    "        B+=[i]\n",
    "count=[len(A),len(B)]\n",
    "        \n",
    "plt.bar(labels,count)"
   ]
  },
  {
   "cell_type": "markdown",
   "metadata": {},
   "source": [
    "### Labelling\n",
    "To label the title of the graph, you use the function plt.title(\"Title Name\") and to label the horizontal and vertical axes, you use the functions plt.xlabel(\"Horizontal Axis Label\") and plt.ylabel(\"Vertical Axis Label\") respectivel."
   ]
  },
  {
   "cell_type": "code",
   "execution_count": null,
   "metadata": {},
   "outputs": [],
   "source": [
    "plt.plot([1, 2, 3, 4])\n",
    "plt.title(\"Title\")\n",
    "plt.ylabel(\"y\")\n",
    "plt.xlabel(\"x\")\n",
    "plt.show()"
   ]
  }
 ],
 "metadata": {
  "kernelspec": {
   "display_name": "Python 3",
   "language": "python",
   "name": "python3"
  },
  "language_info": {
   "codemirror_mode": {
    "name": "ipython",
    "version": 3
   },
   "file_extension": ".py",
   "mimetype": "text/x-python",
   "name": "python",
   "nbconvert_exporter": "python",
   "pygments_lexer": "ipython3",
   "version": "3.7.6"
  }
 },
 "nbformat": 4,
 "nbformat_minor": 4
}
