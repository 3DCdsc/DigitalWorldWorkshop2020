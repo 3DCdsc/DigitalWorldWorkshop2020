{
 "cells": [
  {
   "cell_type": "markdown",
   "metadata": {},
   "source": [
    "<img src=\"3DC.png\">"
   ]
  },
  {
   "cell_type": "markdown",
   "metadata": {},
   "source": [
    "# Cheat Sheet\n",
    "\n",
    "Revision content from last quiz is below."
   ]
  },
  {
   "cell_type": "markdown",
   "metadata": {},
   "source": [
    "------------\n",
    "# Part 2 (New Content for Mid Terms)\n",
    "-----------\n",
    "## Nested Lists\n",
    "A nested list just refers to a list of lists. The elements of the outer list are inner lists. \n",
    "### Creating a list"
   ]
  },
  {
   "cell_type": "code",
   "execution_count": 1,
   "metadata": {},
   "outputs": [],
   "source": [
    "nestedlist=[[1,1,1],[2,2,2],[3,3,3]]"
   ]
  },
  {
   "cell_type": "markdown",
   "metadata": {},
   "source": [
    "### Retrieving items from nested list\n",
    "To retrieve an inner list from the outer list, retrieve the inner list as an element of the outer list.\n",
    "\n",
    "To retrieve the elements from the inner list, retrieve the elements of the list as usual."
   ]
  },
  {
   "cell_type": "code",
   "execution_count": 2,
   "metadata": {},
   "outputs": [
    {
     "name": "stdout",
     "output_type": "stream",
     "text": [
      "Retrieving first inner list:\n",
      "[1, 1, 1]\n",
      "\n",
      "\n",
      "Retrieving all inner lists:\n",
      "[1, 1, 1]\n",
      "[2, 2, 2]\n",
      "[3, 3, 3]\n",
      "\n",
      "\n"
     ]
    }
   ],
   "source": [
    "print(\"Retrieving first inner list:\")\n",
    "print(nestedlist[0])\n",
    "print(\"\\n\")\n",
    "\n",
    "print(\"Retrieving all inner lists:\")\n",
    "for innerlist in nestedlist:\n",
    "    print(innerlist)\n",
    "print(\"\\n\")"
   ]
  },
  {
   "cell_type": "code",
   "execution_count": 3,
   "metadata": {},
   "outputs": [
    {
     "name": "stdout",
     "output_type": "stream",
     "text": [
      "Retrieving first element in first inner list:\n",
      "1\n",
      "\n",
      "\n",
      "Retrieving all elements in first inner list:\n",
      "1\n",
      "1\n",
      "1\n",
      "\n",
      "\n",
      "Retrieving all elements in all inner lists:\n",
      "Inner List Number: 0\n",
      "1\n",
      "1\n",
      "1\n",
      "Inner List Number: 1\n",
      "2\n",
      "2\n",
      "2\n",
      "Inner List Number: 2\n",
      "3\n",
      "3\n",
      "3\n",
      "\n",
      "\n"
     ]
    }
   ],
   "source": [
    "print(\"Retrieving first element in first inner list:\")\n",
    "print(nestedlist[0][0])\n",
    "print(\"\\n\")\n",
    "\n",
    "print(\"Retrieving all elements in first inner list:\")\n",
    "for element in nestedlist[0]:\n",
    "    print(element)\n",
    "print(\"\\n\")\n",
    "\n",
    "print(\"Retrieving all elements in all inner lists:\")\n",
    "for innerlist in nestedlist:\n",
    "    print(\"Inner List Number:\",nestedlist.index(innerlist))\n",
    "    for element in innerlist:\n",
    "        print(element)\n",
    "print(\"\\n\")"
   ]
  },
  {
   "cell_type": "markdown",
   "metadata": {},
   "source": [
    "----------------\n",
    "## Tuples\n",
    "Tuples are wrapped in round brackets.\n",
    "Operation on tuples are same as lists.\n",
    "The difference between tuples and lists is that tuples are immunerable(uneditable)."
   ]
  },
  {
   "cell_type": "code",
   "execution_count": 4,
   "metadata": {},
   "outputs": [
    {
     "name": "stdout",
     "output_type": "stream",
     "text": [
      "('potato', 'strawberry', 'watermelon')\n",
      "\n",
      "\n",
      "A way to edit tuples is to create a list with every item of the tuple.\n",
      "['tomato', 'strawberry', 'watermelon']\n",
      "\n",
      "\n",
      "After editing the list, you can then convert is back to a tuple.\n",
      "('tomato', 'strawberry', 'watermelon')\n",
      "\n",
      "\n",
      "NOTE: If you have assigned a list to the variable list, list() WILL fail.\n"
     ]
    }
   ],
   "source": [
    "fruits=(\"potato\",\"strawberry\",\"watermelon\")\n",
    "print(fruits)\n",
    "print(\"\\n\")\n",
    "\n",
    "#fruits[0]=\"tomato\" \n",
    "#Attempting to edit the tuple will return a TypeError: 'tuple' object does not support item assignment\n",
    "\n",
    "print(\"A way to edit tuples is to create a list with every item of the tuple.\")\n",
    "fruitlist= list(fruits)\n",
    "fruitlist[0]=\"tomato\"\n",
    "print(fruitlist)\n",
    "print(\"\\n\")\n",
    "\n",
    "print(\"After editing the list, you can then convert is back to a tuple.\")\n",
    "fruits=tuple(fruitlist)\n",
    "print(fruits)\n",
    "print(\"\\n\")\n",
    "\n",
    "print(\"NOTE: If you have assigned a list to the variable list, list() WILL fail.\")"
   ]
  },
  {
   "cell_type": "markdown",
   "metadata": {},
   "source": [
    "---------------\n",
    "## Dictionary\n",
    "The main feature of the dictionary is the key value pair. The values are attached to keys which allow the values to be retrieved.\n",
    "### Creating Dictionary"
   ]
  },
  {
   "cell_type": "code",
   "execution_count": 5,
   "metadata": {},
   "outputs": [
    {
     "name": "stdout",
     "output_type": "stream",
     "text": [
      "{'Club': '3DC', 'IsAwesome': True}\n",
      "\n",
      "\n",
      "Adding new item\n",
      "{'Club': '3DC', 'IsAwesome': True, 'Year': 2019}\n",
      "\n",
      "\n",
      "Another way to construct a dictionary\n",
      "{'Club': '3DC', 'IsAwesome': True, 'Year': 2019}\n"
     ]
    }
   ],
   "source": [
    "dictionary={\n",
    "    \"Club\":\"3DC\",\n",
    "    \"IsAwesome\":True\n",
    "}\n",
    "print(dictionary)\n",
    "print(\"\\n\")\n",
    "\n",
    "print(\"Adding new item\")\n",
    "dictionary[\"Year\"]=2019\n",
    "print(dictionary)\n",
    "print(\"\\n\")\n",
    "\n",
    "#Another way to construct a dictionary\n",
    "print(\"Another way to construct a dictionary\")\n",
    "dictionary2 = dict(Club=\"3DC\", IsAwesome=True, Year=2019)\n",
    "print(dictionary2)"
   ]
  },
  {
   "cell_type": "markdown",
   "metadata": {},
   "source": [
    "### Getting or changing item in Dictionary"
   ]
  },
  {
   "cell_type": "code",
   "execution_count": 6,
   "metadata": {},
   "outputs": [
    {
     "name": "stdout",
     "output_type": "stream",
     "text": [
      "Printing Dictionary\n",
      "{'Club': '3DC', 'IsAwesome': True, 'Year': 2019}\n",
      "\n",
      "\n",
      "Printing Item (given key)\n",
      "3DC\n",
      "\n",
      "\n",
      "Changing Item (given key)\n",
      "2020\n",
      "{'Club': '3DC', 'IsAwesome': True, 'Year': 2020}\n",
      "\n",
      "\n"
     ]
    }
   ],
   "source": [
    "print(\"Printing Dictionary\")\n",
    "print(dictionary)\n",
    "print(\"\\n\")\n",
    "\n",
    "print(\"Printing Item (given key)\")\n",
    "print(dictionary[\"Club\"])\n",
    "print(\"\\n\")\n",
    "\n",
    "print(\"Changing Item (given key)\")\n",
    "dictionary[\"Year\"]=2020\n",
    "print(dictionary[\"Year\"])\n",
    "print(dictionary)\n",
    "print(\"\\n\")"
   ]
  },
  {
   "cell_type": "markdown",
   "metadata": {},
   "source": [
    "### Iterating through Dictionary\n",
    "Through iteration, you are able to obtain these things:\n",
    "- List of keys\n",
    "- List of values\n",
    "- List of keys and values"
   ]
  },
  {
   "cell_type": "code",
   "execution_count": 7,
   "metadata": {},
   "outputs": [
    {
     "name": "stdout",
     "output_type": "stream",
     "text": [
      "Obtaining List of Keys\n",
      "Club\n",
      "IsAwesome\n",
      "Year\n",
      "\n",
      "\n",
      "Obtaining List of Values\n",
      "3DC\n",
      "True\n",
      "2020\n",
      "\n",
      "\n",
      "Obtaining List of Key-Value pairs\n",
      "Club : 3DC\n",
      "IsAwesome : True\n",
      "Year : 2020\n"
     ]
    }
   ],
   "source": [
    "print(\"Obtaining List of Keys\")\n",
    "for key in dictionary:\n",
    "    print(key)\n",
    "print(\"\\n\")\n",
    "\n",
    "print(\"Obtaining List of Values\")\n",
    "for key in dictionary:\n",
    "    print(dictionary[key])\n",
    "print(\"\\n\")\n",
    "\n",
    "print(\"Obtaining List of Key-Value pairs\")\n",
    "for key,value in dictionary.items(): #NOTE: .items() method is required\n",
    "    print(key,\":\",value)"
   ]
  },
  {
   "cell_type": "markdown",
   "metadata": {},
   "source": [
    "### Checking if key is in dictionary\n",
    "Sometimes to check if a field is filled in a dictionary, checking if a key exists can be very useful."
   ]
  },
  {
   "cell_type": "code",
   "execution_count": 8,
   "metadata": {},
   "outputs": [
    {
     "name": "stdout",
     "output_type": "stream",
     "text": [
      "Test 1\n",
      "Key exists!\n",
      "\n",
      "\n",
      "Test 2\n",
      "Key not found!\n"
     ]
    }
   ],
   "source": [
    "def key_test(dictionary_tested,testing_key):\n",
    "    if testing_key in dictionary:\n",
    "        print(\"Key exists!\")\n",
    "    else:\n",
    "        print(\"Key not found!\")\n",
    "\n",
    "print(\"Test 1\")\n",
    "key_test(dictionary,\"Year\")\n",
    "print(\"\\n\")\n",
    "\n",
    "print(\"Test 2\")\n",
    "key_test(dictionary,\"Hello\")"
   ]
  },
  {
   "cell_type": "markdown",
   "metadata": {},
   "source": [
    "---------------------------------------\n",
    "## Recursion\n",
    "In Python, a function can call itself. A function that calls itself is known as a recursive function. Your function should have a way to break out of the recursion. Below is a really simple example."
   ]
  },
  {
   "cell_type": "code",
   "execution_count": 9,
   "metadata": {},
   "outputs": [],
   "source": [
    "def plusone_ytimes(x,y):\n",
    "    x+=1\n",
    "    y-=1\n",
    "    print(x,y)\n",
    "    print(\"y=\",y)\n",
    "    if y==0: #function must be able to breakout!\n",
    "        return x \n",
    "    else:\n",
    "        return plusone_ytimes(x,y) #Need to have the return in front when recursively calling the function"
   ]
  },
  {
   "cell_type": "code",
   "execution_count": 10,
   "metadata": {},
   "outputs": [
    {
     "name": "stdout",
     "output_type": "stream",
     "text": [
      "11 1\n",
      "y= 1\n",
      "12 0\n",
      "y= 0\n",
      "12\n"
     ]
    }
   ],
   "source": [
    "print(plusone_ytimes(10,2))"
   ]
  },
  {
   "cell_type": "markdown",
   "metadata": {},
   "source": [
    "---------------------\n",
    "## String Operators\n",
    "Strings are just like lists of characters. You can hence use list methods such as splicing.\n",
    "### List Methods on String"
   ]
  },
  {
   "cell_type": "code",
   "execution_count": 11,
   "metadata": {},
   "outputs": [
    {
     "name": "stdout",
     "output_type": "stream",
     "text": [
      "a\n",
      "bc\n"
     ]
    }
   ],
   "source": [
    "string=\"abcd\"\n",
    "print(string[0])\n",
    "print(string[1:3])"
   ]
  },
  {
   "cell_type": "markdown",
   "metadata": {},
   "source": [
    "There are also string specific methods such as split() or lowercase()"
   ]
  },
  {
   "cell_type": "code",
   "execution_count": 12,
   "metadata": {},
   "outputs": [
    {
     "name": "stdout",
     "output_type": "stream",
     "text": [
      "abc\n",
      "def\n",
      "\n",
      "\n",
      "ABC\n",
      "Def\n"
     ]
    }
   ],
   "source": [
    "string=\"abc,def\"\n",
    "string1,string2=string.split(',')\n",
    "print(string1)\n",
    "print(string2)\n",
    "print(\"\\n\")\n",
    "\n",
    "print(string1.upper())\n",
    "print(string2.capitalize())"
   ]
  },
  {
   "cell_type": "markdown",
   "metadata": {},
   "source": [
    "### String Comparisons\n",
    "Strings are compared lexicographically i.e using ASCII value of the characters."
   ]
  },
  {
   "cell_type": "code",
   "execution_count": 13,
   "metadata": {},
   "outputs": [
    {
     "name": "stdout",
     "output_type": "stream",
     "text": [
      "True\n",
      "True\n",
      "True\n"
     ]
    }
   ],
   "source": [
    "string1=\"BBBB\"\n",
    "string2=\"bbbb\"\n",
    "string3=\"bbb\"\n",
    "string4=\"aaaa\"\n",
    "\n",
    "print(string2>string1) #lowercase > uppercase\n",
    "print(string2>string3) #longer string > shorter string\n",
    "print(string2>string4) #behind alphabets \"z,x,y\" > forward alphabets \"a,b,c\""
   ]
  },
  {
   "cell_type": "markdown",
   "metadata": {},
   "source": [
    "-----------\n",
    "## Reading and Writing Files\n",
    "A Python script can be used to read or write other files. This can be done with the open() function."
   ]
  },
  {
   "cell_type": "markdown",
   "metadata": {},
   "source": [
    "### Reading Files"
   ]
  },
  {
   "cell_type": "code",
   "execution_count": 14,
   "metadata": {},
   "outputs": [
    {
     "name": "stdout",
     "output_type": "stream",
     "text": [
      "Hello!\n",
      "We are from 3DC!\n",
      "You are awesome!\n",
      "Bye Bye!\n",
      "\n"
     ]
    }
   ],
   "source": [
    "file = open(\"testfile1.txt\",\"r\")\n",
    "print(file.read()) #Reads everything in file"
   ]
  },
  {
   "cell_type": "code",
   "execution_count": 15,
   "metadata": {},
   "outputs": [
    {
     "name": "stdout",
     "output_type": "stream",
     "text": [
      "Hello\n",
      "!\n",
      "We \n"
     ]
    }
   ],
   "source": [
    "file = open(\"testfile1.txt\",\"r\")\n",
    "\n",
    "print(file.read(5)) #Number of characters read\n",
    "print(file.read(5)) #Next 5 characters are read"
   ]
  },
  {
   "cell_type": "code",
   "execution_count": 16,
   "metadata": {},
   "outputs": [
    {
     "name": "stdout",
     "output_type": "stream",
     "text": [
      "Hello!\n",
      "\n",
      "We are from 3DC!\n",
      "\n"
     ]
    }
   ],
   "source": [
    "file = open(\"testfile1.txt\",\"r\")\n",
    "print(file.readline()) #reads 1st line\n",
    "print(file.readline()) #reads next line"
   ]
  },
  {
   "cell_type": "code",
   "execution_count": 17,
   "metadata": {},
   "outputs": [
    {
     "name": "stdout",
     "output_type": "stream",
     "text": [
      "He\n",
      "l\n"
     ]
    }
   ],
   "source": [
    "file = open(\"testfile1.txt\",\"r\")\n",
    "print(file.readline(2)) #reads first 2 characters in line\n",
    "print(file.readline(1)) #reads next character in line"
   ]
  },
  {
   "cell_type": "markdown",
   "metadata": {},
   "source": [
    "### Writing Files"
   ]
  },
  {
   "cell_type": "code",
   "execution_count": 18,
   "metadata": {},
   "outputs": [],
   "source": [
    "file = open(\"testfile2.txt\",\"w\") \n",
    " \n",
    "file.write(\"\\n\")\n",
    "file.write(\"Hello World\") \n",
    "file.write(\"\\n\")\n",
    "file.write(\"This is our new text file\") \n",
    "file.write(\"\\n\")\n",
    "file.write(\"and this is another line.\") \n",
    "file.write(\"\\n\")\n",
    "file.write(\"Why? Because we can.\") \n",
    " \n",
    "file.close() "
   ]
  },
  {
   "cell_type": "code",
   "execution_count": 19,
   "metadata": {},
   "outputs": [
    {
     "name": "stdout",
     "output_type": "stream",
     "text": [
      "\n",
      "Hello World\n",
      "This is our new text file\n",
      "and this is another line.\n",
      "Why? Because we can.\n"
     ]
    }
   ],
   "source": [
    "file=open(\"testfile2.txt\",\"r\")\n",
    "print(file.read())"
   ]
  },
  {
   "cell_type": "markdown",
   "metadata": {},
   "source": [
    "---------------------------------------\n",
    "# Earlier Content (from previous quiz)\n",
    "---------------------------------------"
   ]
  },
  {
   "cell_type": "markdown",
   "metadata": {},
   "source": [
    "## Numerical Operators and PEDMAS\n",
    "### Numerical Operators\n",
    "In python arithmetic operators are used with numeric values to perform common numerical operations\n",
    "\n",
    "| Operator          | Description                                                  | Example                                                      |\n",
    "| ----------------- | ------------------------------------------------------------ | ------------------------------------------------------------ |\n",
    "| + Addition        | Adds values on either side of the operator                   | `10 + 20` returns `30`                                       |\n",
    "| - Subtraction     | Subtracts right hand operand from left hand operand          | `0 - 10` returns `-10`                                       |\n",
    "| * Multiplication  | Multiplies values on either side of the operator             | `20 * 10` returns `200`                                      |\n",
    "| / Division        | Divides left hand operand by right hand operand and returns remainder | `4 / 2` returns `2`                                          |\n",
    "| % Modulus         | Divides left hand operand by right hand operand and returns remainder | `5 % 2` returns `1`                                          |\n",
    "| ** Exponent       | Performs exponential (power) calculation on operators        | `2**3` returns `8`                                           |\n",
    "| // Floor Division | Division that results in the quotient having its digits after the decimal place removed (not rounded). If one of the operands is negative, the result is floored i.e. rounded towards negative infinity | `9 // 2` returns `4` , `9.0 // 2.0` returns  `4.0`, `-11 // 3` returns `-4`, `-11.0 // 3.0` returns `-4.0` |\n",
    "\n"
   ]
  },
  {
   "cell_type": "markdown",
   "metadata": {},
   "source": [
    "The order of precedence follows the PEMDAS rule: \n",
    "<img src=\"PEMDAS.png\">\n",
    "\n",
    "Since Parantheses has priority, it can be used to ensure precedence."
   ]
  },
  {
   "cell_type": "markdown",
   "metadata": {},
   "source": [
    "---"
   ]
  },
  {
   "cell_type": "markdown",
   "metadata": {},
   "source": [
    "## Lists\n",
    "### List Creation"
   ]
  },
  {
   "cell_type": "code",
   "execution_count": 20,
   "metadata": {},
   "outputs": [
    {
     "name": "stdout",
     "output_type": "stream",
     "text": [
      "[] | <class 'list'>\n",
      "[] | <class 'list'>\n"
     ]
    }
   ],
   "source": [
    "# create empty list\n",
    "names = []\n",
    "cities = list()\n",
    "\n",
    "print(names, type(names), sep=\" | \")\n",
    "print(cities, type(cities), sep=\" | \")"
   ]
  },
  {
   "cell_type": "markdown",
   "metadata": {},
   "source": [
    "### Add new items "
   ]
  },
  {
   "cell_type": "code",
   "execution_count": 21,
   "metadata": {},
   "outputs": [
    {
     "name": "stdout",
     "output_type": "stream",
     "text": [
      "['Eve', 'Katy', 'Rachel', 'Phoebe', 'Annabelle', 'Adele']\n",
      "['Tokyo', 'Singapore', 'New York City', 'Shanghai', 'KL', 'Manila', 'Jakarta', 'Seoul', 'Bangkok']\n"
     ]
    }
   ],
   "source": [
    "names.append(\"Eve\")\n",
    "names.append(\"Katy\")\n",
    "names.append(\"Rachel\")\n",
    "names.append(\"Phoebe\")\n",
    "names.append(\"Annabelle\")\n",
    "names.append(\"Adele\")\n",
    "print(names)\n",
    "\n",
    "cities = [\"Tokyo\", \"Singapore\", \"New York City\", \"Shanghai\", \"KL\", \"Manila\", \"Jakarta\", \"Seoul\", \"Bangkok\"]\n",
    "print(cities)\n"
   ]
  },
  {
   "cell_type": "markdown",
   "metadata": {},
   "source": [
    "### Access items(s) in a List"
   ]
  },
  {
   "cell_type": "code",
   "execution_count": 22,
   "metadata": {},
   "outputs": [
    {
     "name": "stdout",
     "output_type": "stream",
     "text": [
      "Eve\n",
      "Phoebe\n",
      "Adele\n",
      "Annabelle\n",
      "\n",
      "Hello, Eve\n",
      "Hello, Katy\n",
      "Hello, Rachel\n",
      "Hello, Phoebe\n",
      "Hello, Annabelle\n",
      "Hello, Adele\n",
      "\n",
      "Hello, Eve\n",
      "Hello, Katy\n",
      "Hello, Rachel\n",
      "Hello, Phoebe\n",
      "Hello, Annabelle\n",
      "Hello, Adele\n",
      "\n",
      "0 | Eve\n",
      "1 | Katy\n",
      "2 | Rachel\n",
      "3 | Phoebe\n",
      "4 | Annabelle\n",
      "5 | Adele\n"
     ]
    }
   ],
   "source": [
    "# access by a specific index\n",
    "print(names[0])\n",
    "print(names[3])\n",
    "print(names[-1])\n",
    "print(names[-2])\n",
    "\n",
    "print() # just to print a line break\n",
    "\n",
    "# traverse all items in a list\n",
    "for name in names:\n",
    "  print(\"Hello,\", name)\n",
    "\n",
    "print() # just to print a line break\n",
    "\n",
    "# this will show you \"i\" is an arbitrary temporary variable name\n",
    "# below will produce the same output as above\n",
    "for i in names:\n",
    "  print(\"Hello,\", i)\n",
    "\n",
    "print() # just to print a line break\n",
    "\n",
    "# sometimes indexes are useful \n",
    "# how to get the item and its index at the same time? \n",
    "for index, name in enumerate(names):\n",
    "  print(index, name, sep=\" | \")"
   ]
  },
  {
   "cell_type": "markdown",
   "metadata": {},
   "source": [
    "### Count number of items in a List"
   ]
  },
  {
   "cell_type": "code",
   "execution_count": 23,
   "metadata": {},
   "outputs": [
    {
     "name": "stdout",
     "output_type": "stream",
     "text": [
      "6\n",
      "9\n",
      "['Eve', 'Katy', 'Rachel', 'Phoebe', 'Annabelle', 'Adele', 'Adele', 'Adele', 'Adele']\n"
     ]
    }
   ],
   "source": [
    "length = len(names)\n",
    "print(length)\n",
    "\n",
    "names.append(\"Adele\") # this shows List can contain multiple identical objects\n",
    "names.append(\"Adele\")\n",
    "names.append(\"Adele\")\n",
    "print(len(names))\n",
    "print(names)"
   ]
  },
  {
   "cell_type": "markdown",
   "metadata": {},
   "source": [
    "### Remove items from a list"
   ]
  },
  {
   "cell_type": "code",
   "execution_count": 24,
   "metadata": {},
   "outputs": [
    {
     "name": "stdout",
     "output_type": "stream",
     "text": [
      "['Katy', 'Rachel', 'Phoebe', 'Annabelle', 'Adele', 'Adele', 'Adele', 'Adele']\n",
      "\n",
      "removed name: Katy\n",
      "['Rachel', 'Phoebe', 'Annabelle', 'Adele', 'Adele', 'Adele', 'Adele']\n",
      "\n",
      "['Rachel', 'Phoebe', 'Annabelle', 'Adele', 'Adele', 'Adele']\n",
      "\n",
      "# 01: ['Rachel', 'Phoebe', 'Annabelle', 'Adele', 'Adele']\n",
      "# 02: ['Rachel', 'Phoebe', 'Annabelle', 'Adele']\n",
      "# 03: ['Rachel', 'Phoebe', 'Annabelle']\n"
     ]
    }
   ],
   "source": [
    "# remove an item at specific index\n",
    "# method 1: del\n",
    "del names[0]\n",
    "print(names)\n",
    "print()\n",
    "\n",
    "# method 2: pop\n",
    "removed_name = names.pop(0) # pop() also returns the item being deleted\n",
    "print(\"removed name:\", removed_name)\n",
    "print(names)\n",
    "print()\n",
    "\n",
    "# remove an item with specific value\n",
    "names.remove(\"Adele\") # this will remove the first occurrence of 'Adele' only\n",
    "print(names)\n",
    "print()\n",
    "\n",
    "# remove the last item from a List\n",
    "names.pop() # 01\n",
    "print(\"# 01:\", names)\n",
    "\n",
    "names.pop(-1) # 02\n",
    "print(\"# 02:\", names)\n",
    "\n",
    "del names[-1] # 03\n",
    "print(\"# 03:\", names)"
   ]
  },
  {
   "cell_type": "markdown",
   "metadata": {},
   "source": [
    "### List Slicing"
   ]
  },
  {
   "cell_type": "code",
   "execution_count": 25,
   "metadata": {},
   "outputs": [
    {
     "name": "stdout",
     "output_type": "stream",
     "text": [
      "['Rachel', 'Phoebe', 'Annabelle']\n",
      "['Eve', 'Katy', 'Rachel']\n",
      "['Phoebe', 'Annabelle', 'Adele']\n"
     ]
    }
   ],
   "source": [
    "names = ['Rachel', 'Phoebe', 'Annabelle', 'Eve', 'Katy', 'Rachel', 'Phoebe', 'Annabelle', 'Adele']\n",
    "class_01 = names[:3]\n",
    "class_02 = names[3:6]\n",
    "class_03 = names[6:]\n",
    "\n",
    "print(class_01)\n",
    "print(class_02)\n",
    "print(class_03)"
   ]
  },
  {
   "cell_type": "markdown",
   "metadata": {},
   "source": [
    "### List Concatenation (Join 2 lists)"
   ]
  },
  {
   "cell_type": "code",
   "execution_count": 26,
   "metadata": {},
   "outputs": [
    {
     "name": "stdout",
     "output_type": "stream",
     "text": [
      "cities: ['Tokyo', 'Singapore', 'Shanghai', 'Jakarta', 'Bangkok']\n",
      "american_cities: ['Los Angeles', 'Seattle', 'San Diego', 'Chicago']\n",
      "cities: ['Tokyo', 'Singapore', 'Shanghai', 'Jakarta', 'Bangkok', 'Los Angeles', 'Seattle', 'San Diego', 'Chicago', 'Los Angeles', 'Seattle', 'San Diego', 'Chicago']\n"
     ]
    }
   ],
   "source": [
    "cities = [\"Tokyo\", \"Singapore\", \"Shanghai\", \"Jakarta\", \"Bangkok\"]\n",
    "american_cities = [\"Los Angeles\", \"Seattle\", \"San Diego\", \"Chicago\"]\n",
    "\n",
    "print(\"cities:\", cities)\n",
    "print(\"american_cities:\", american_cities)\n",
    "\n",
    "# you can do this \n",
    "for city in american_cities:\n",
    "  cities.append(city)\n",
    "\n",
    "# or more succinctly \n",
    "cities = cities + american_cities\n",
    "\n",
    "print(\"cities:\", cities)"
   ]
  },
  {
   "cell_type": "markdown",
   "metadata": {},
   "source": [
    "### Remove duplicates from list"
   ]
  },
  {
   "cell_type": "code",
   "execution_count": 27,
   "metadata": {},
   "outputs": [
    {
     "name": "stdout",
     "output_type": "stream",
     "text": [
      "['Tokyo', 'Singapore', 'Shanghai', 'Jakarta', 'Bangkok', 'Los Angeles', 'Seattle', 'San Diego', 'Chicago', 'Los Angeles', 'Seattle', 'San Diego', 'Chicago']\n",
      "['Chicago', 'Bangkok', 'Singapore', 'Los Angeles', 'Jakarta', 'Seattle', 'San Diego', 'Shanghai', 'Tokyo']\n"
     ]
    }
   ],
   "source": [
    "print(cities)\n",
    "cities = list(set(cities))\n",
    "print(cities)"
   ]
  },
  {
   "cell_type": "markdown",
   "metadata": {},
   "source": [
    "---"
   ]
  },
  {
   "cell_type": "markdown",
   "metadata": {},
   "source": [
    "## Functions"
   ]
  },
  {
   "cell_type": "markdown",
   "metadata": {},
   "source": [
    "A function is a block of code which performs a specific task when called. A function accepts inputs as parameters and provides an output in the form of a result "
   ]
  },
  {
   "cell_type": "markdown",
   "metadata": {},
   "source": [
    "### Creating a Function\n",
    "A function is defined using the keyword def"
   ]
  },
  {
   "cell_type": "code",
   "execution_count": 28,
   "metadata": {},
   "outputs": [],
   "source": [
    "def hello_function(): # keyword def is used for function definition\n",
    "    print(\"Hello World!\") # This function prints out “Hello World!” when called"
   ]
  },
  {
   "cell_type": "markdown",
   "metadata": {},
   "source": [
    "### Calling a Function\n",
    "A function is called by writing out the function name followed by parenthesis "
   ]
  },
  {
   "cell_type": "code",
   "execution_count": 29,
   "metadata": {},
   "outputs": [
    {
     "name": "stdout",
     "output_type": "stream",
     "text": [
      "Hello World!\n"
     ]
    }
   ],
   "source": [
    "def hello_function():\n",
    "    print(\"Hello World!\")\n",
    "\n",
    "hello_function()  # The function is called in this statement"
   ]
  },
  {
   "cell_type": "markdown",
   "metadata": {},
   "source": [
    "### Arguments\n",
    "Information is passed on to the function in the form of an argument. It is specified after the function name within parenthesis. A function can have any number of arguments separated with a comma."
   ]
  },
  {
   "cell_type": "code",
   "execution_count": 30,
   "metadata": {},
   "outputs": [
    {
     "name": "stdout",
     "output_type": "stream",
     "text": [
      "Hello John\n"
     ]
    }
   ],
   "source": [
    "def hello_name_function(name):   # The argument of the given function is name\n",
    "    print(\"Hello \"+ name)\n",
    "    \n",
    "hello_name_function(\"John\")"
   ]
  },
  {
   "cell_type": "markdown",
   "metadata": {},
   "source": [
    "The function must be called with the exact number of arguments as specified in the function definition. \n",
    "\n",
    "You can send any data types of argument to a function (string, number, list, dictionary etc.), and it will be treated as the same data type inside the function."
   ]
  },
  {
   "cell_type": "markdown",
   "metadata": {},
   "source": [
    "### Return Values\n",
    "The output of a function is specified as the return value of the function "
   ]
  },
  {
   "cell_type": "code",
   "execution_count": 31,
   "metadata": {},
   "outputs": [
    {
     "data": {
      "text/plain": [
       "4"
      ]
     },
     "execution_count": 31,
     "metadata": {},
     "output_type": "execute_result"
    }
   ],
   "source": [
    "def square_function(x):   # The function takes the number to be squared as the input\n",
    "    return x*x            # The function returns the square of the function when called \n",
    "\n",
    "square_function(2)"
   ]
  },
  {
   "cell_type": "markdown",
   "metadata": {},
   "source": [
    "---"
   ]
  },
  {
   "cell_type": "markdown",
   "metadata": {},
   "source": [
    "## Conditionals"
   ]
  },
  {
   "cell_type": "markdown",
   "metadata": {},
   "source": [
    "Python supports the following logical conditions for mathematics: \n",
    "- Equals: a==b \n",
    "- Not Equals: a!=b \n",
    "- Less Than: a<b \n",
    "- Greater Than: a>b \n",
    "- Lesser Than or Equal to: a<=b \n",
    "- Greater Than or Equal to: a>=b\n",
    "- And: a and b \n",
    "- Or: a or b"
   ]
  },
  {
   "cell_type": "markdown",
   "metadata": {},
   "source": [
    "### `if` Statement:\n",
    "The if statement in Python is written by using the keyword “if”. It is always necessary to use the correct indentation to avoid getting an error. "
   ]
  },
  {
   "cell_type": "code",
   "execution_count": 32,
   "metadata": {},
   "outputs": [
    {
     "name": "stdout",
     "output_type": "stream",
     "text": [
      "a is greater than b\n"
     ]
    }
   ],
   "source": [
    "a = 400\n",
    "b = 300\n",
    "if a>b:    # This statement checks if the condition a being greater than b is satisfied \n",
    "    print(\"a is greater than b\")    # If the condition is satisfied this line is executed\n"
   ]
  },
  {
   "cell_type": "markdown",
   "metadata": {},
   "source": [
    "### `elif` Statement:\n",
    "This statement is a way of saying “If the previous conditions fail but if this condition satisfied”. "
   ]
  },
  {
   "cell_type": "code",
   "execution_count": 33,
   "metadata": {},
   "outputs": [
    {
     "name": "stdout",
     "output_type": "stream",
     "text": [
      "a is greater than b\n"
     ]
    }
   ],
   "source": [
    "a = 400\n",
    "b = 300\n",
    "if a>b: \n",
    "    print(\"a is greater than b\")\n",
    "elif a==b:         # This statement checks the new condition if the previous one fails \n",
    "    print(\"a is equal to be\")    # This line is executed if the new conditions is true\n"
   ]
  },
  {
   "cell_type": "markdown",
   "metadata": {},
   "source": [
    "### `else` Statement:\n",
    "The else condition is used if all the previous statements are not satisfied \n"
   ]
  },
  {
   "cell_type": "code",
   "execution_count": 34,
   "metadata": {},
   "outputs": [
    {
     "name": "stdout",
     "output_type": "stream",
     "text": [
      "a is greater than b\n"
     ]
    }
   ],
   "source": [
    "a = 400\n",
    "b = 300\n",
    "if a>b:\n",
    "    print(\"a is greater than b\")\n",
    "elif a==b: \n",
    "    print(\"a is equal to b\")\n",
    "else:        # This statement in this program accounts for the condition that a<b. \n",
    "    print(\"a is lesser than b\") \n"
   ]
  },
  {
   "cell_type": "markdown",
   "metadata": {},
   "source": [
    "### Nested `if`:\t\n",
    "An if statement within an if statement is a nested if statement"
   ]
  },
  {
   "cell_type": "code",
   "execution_count": 35,
   "metadata": {},
   "outputs": [
    {
     "name": "stdout",
     "output_type": "stream",
     "text": [
      "a greater than b\n"
     ]
    }
   ],
   "source": [
    "a = 400\n",
    "b = 300\n",
    "if a != b:\n",
    "    if a > b:    # This is an example of an if statement used within an if statement\n",
    "        print(\"a greater than b\")\n",
    "    if a < b:\n",
    "        print(\"a lesser than b\")\n",
    "else:\n",
    "    print(\"a is equal to b\")\n"
   ]
  },
  {
   "cell_type": "markdown",
   "metadata": {},
   "source": [
    "---"
   ]
  },
  {
   "cell_type": "markdown",
   "metadata": {},
   "source": [
    "## `while` Loops\n",
    "### The Condition\n",
    "Using a while loop we can execute a set of statements as long as a given condition is satisfied"
   ]
  },
  {
   "cell_type": "code",
   "execution_count": 36,
   "metadata": {},
   "outputs": [],
   "source": [
    "x = 1        # The initial value of x is 1\n",
    "while x<=5:  # As long as x is lesser than or equal to 5 the loop is executed \n",
    "    x += 1   # The x value keeps getting incremented by 1"
   ]
  },
  {
   "cell_type": "markdown",
   "metadata": {},
   "source": [
    "### The `break` Statement\n",
    "The break statement can be used to break out of the while loop even when the given condition is satisfied"
   ]
  },
  {
   "cell_type": "code",
   "execution_count": 37,
   "metadata": {},
   "outputs": [],
   "source": [
    "x = 1\n",
    "while x<=5:\n",
    "    x += 1 \n",
    "    if x==2:\n",
    "        break  # Even though x = 2 satisfies the condition the loop is broken "
   ]
  },
  {
   "cell_type": "markdown",
   "metadata": {},
   "source": [
    "### The `continue` Statement\n",
    "Just like in the case of for loops, the continue statement allows the current iteration of the loop to be broken and moves to the next iteration "
   ]
  },
  {
   "cell_type": "code",
   "execution_count": 38,
   "metadata": {},
   "outputs": [],
   "source": [
    "x = 1\n",
    "while x<=5:\n",
    "    x += 1 \n",
    "    if x==2:\n",
    "        continue  # Even though x = 2 satisfies the condition the current iteration is broken "
   ]
  },
  {
   "cell_type": "markdown",
   "metadata": {},
   "source": [
    "### The `else` Statement \n",
    "The else statement can be used to execute a given block of code when the condition is not satisfied "
   ]
  },
  {
   "cell_type": "code",
   "execution_count": 39,
   "metadata": {},
   "outputs": [
    {
     "name": "stdout",
     "output_type": "stream",
     "text": [
      "The number is greater than 5\n"
     ]
    }
   ],
   "source": [
    "x = 1\n",
    "while x<=5:\n",
    "    x += 1\n",
    "else:\n",
    "    print(\"The number is greater than 5\")   # This block of code is run when x>5"
   ]
  },
  {
   "cell_type": "markdown",
   "metadata": {},
   "source": [
    "---"
   ]
  },
  {
   "cell_type": "markdown",
   "metadata": {},
   "source": [
    "## `for` Loop\n",
    "A for loop in Python is used in iterating over a sequence (a list, tuple, set, dictionary or a string)"
   ]
  },
  {
   "cell_type": "code",
   "execution_count": 40,
   "metadata": {},
   "outputs": [
    {
     "name": "stdout",
     "output_type": "stream",
     "text": [
      "1\n",
      "2\n",
      "3\n",
      "4\n"
     ]
    }
   ],
   "source": [
    "lst = [1,2,3,4]\n",
    "for i in lst:    # In this example the for loop is used to iterate over a list \n",
    "    print(i)"
   ]
  },
  {
   "cell_type": "markdown",
   "metadata": {},
   "source": [
    "### The `break` Statement:\n",
    "The break statement is used to break the for loop before it has looped through all the items"
   ]
  },
  {
   "cell_type": "code",
   "execution_count": 41,
   "metadata": {},
   "outputs": [
    {
     "name": "stdout",
     "output_type": "stream",
     "text": [
      "1\n",
      "2\n"
     ]
    }
   ],
   "source": [
    "lst = [1,2,3,4]\n",
    "\n",
    "for i in lst:\n",
    "    print(i)\n",
    "    if i==2:\n",
    "        break    # When i = 2 the loop is broken\n"
   ]
  },
  {
   "cell_type": "markdown",
   "metadata": {},
   "source": [
    "### The `continue` Statement:\n",
    "The continue statement is used to break from the current iteration of the loop and continue with the next one\n"
   ]
  },
  {
   "cell_type": "code",
   "execution_count": 42,
   "metadata": {},
   "outputs": [
    {
     "name": "stdout",
     "output_type": "stream",
     "text": [
      "1\n",
      "2\n",
      "3\n",
      "4\n"
     ]
    }
   ],
   "source": [
    "lst = [1,2,3,4]\n",
    "\n",
    "for i in lst:\n",
    "    print(i)\n",
    "    if i==2:\n",
    "        continue    # When i = 2 the current iteration of the loop is broken\n"
   ]
  },
  {
   "cell_type": "markdown",
   "metadata": {},
   "source": [
    "### The Range Function:\n",
    "The range() function returns a sequence of numbers, starting from 0 by default, and increments by 1 (by default), and ends at a specified number."
   ]
  },
  {
   "cell_type": "code",
   "execution_count": 43,
   "metadata": {},
   "outputs": [
    {
     "name": "stdout",
     "output_type": "stream",
     "text": [
      "0\n",
      "1\n",
      "2\n",
      "3\n",
      "4\n",
      "5\n"
     ]
    }
   ],
   "source": [
    "for i in range(6):\n",
    "    print(i)    # Numbers from 0 to 5 are printed "
   ]
  },
  {
   "cell_type": "markdown",
   "metadata": {},
   "source": [
    "The range() function defaults to 0 as a starting value, however it is possible to specify the starting value by adding a parameter: range(2, 6), which means values from 2 to 6 (but not including 6):"
   ]
  },
  {
   "cell_type": "code",
   "execution_count": 44,
   "metadata": {},
   "outputs": [
    {
     "name": "stdout",
     "output_type": "stream",
     "text": [
      "2\n",
      "3\n",
      "4\n",
      "5\n"
     ]
    }
   ],
   "source": [
    "for i in range(2,6):\n",
    "    print(i)    # Numbers from 2 to 6 not including 6 are printed"
   ]
  },
  {
   "cell_type": "markdown",
   "metadata": {},
   "source": [
    "The range() function defaults to increment the sequence by 1, however it is possible to specify the increment value by adding a third parameter: range(2, 30, 3):"
   ]
  },
  {
   "cell_type": "code",
   "execution_count": 45,
   "metadata": {},
   "outputs": [
    {
     "name": "stdout",
     "output_type": "stream",
     "text": [
      "2\n",
      "4\n"
     ]
    }
   ],
   "source": [
    "for i in range(2,6,2):\n",
    "    print(i)    # Numbers 2,4 are printed \n"
   ]
  },
  {
   "cell_type": "markdown",
   "metadata": {},
   "source": [
    "---"
   ]
  },
  {
   "cell_type": "markdown",
   "metadata": {},
   "source": [
    "## Matplotlib\n",
    "Matplotlib is a Python 2D plotting library which produces publication quality figures in a variety of hardcopy formats and interactive environments across platforms. TL;DR: Matplotlib is used to plot graphs.\n",
    "\n",
    "### pyplot"
   ]
  },
  {
   "cell_type": "markdown",
   "metadata": {},
   "source": [
    "matplotlib.pyplot is a collection of command style functions that make matplotlib work like MATLAB. Each pyplot function makes some change to a figure: e.g., creates a figure, creates a plotting area in a figure, plots some lines in a plotting area, decorates the plot with labels, etc."
   ]
  },
  {
   "cell_type": "code",
   "execution_count": 46,
   "metadata": {},
   "outputs": [
    {
     "data": {
      "image/png": "[encoded data removed]",
      "text/plain": [
       "<Figure size 432x288 with 1 Axes>"
      ]
     },
     "metadata": {
      "needs_background": "light"
     },
     "output_type": "display_data"
    }
   ],
   "source": [
    "import matplotlib.pyplot as plt\n",
    "\n",
    "%matplotlib inline \n",
    "# Jupyter plot formatting, should not be needed in other IDEs\n",
    "\n",
    "plt.plot([1, 2, 3, 4])\n",
    "plt.show()"
   ]
  },
  {
   "cell_type": "markdown",
   "metadata": {},
   "source": [
    "## Types of plots\n",
    "Using pyplot, you are able to plot these figures:\n",
    "\n",
    "- line plot (above)\n",
    "- scatter plot\n",
    "- histogram\n",
    "- box plot\n",
    "- bar plot"
   ]
  },
  {
   "cell_type": "markdown",
   "metadata": {},
   "source": [
    "### Scatter Plot\n",
    "plt.scatter(x,y) \n",
    "x and y can be lists for multiple points but lists must be of equal length."
   ]
  },
  {
   "cell_type": "code",
   "execution_count": 47,
   "metadata": {},
   "outputs": [
    {
     "data": {
      "image/png": "[encoded data removed]",
      "text/plain": [
       "<Figure size 432x288 with 1 Axes>"
      ]
     },
     "metadata": {
      "needs_background": "light"
     },
     "output_type": "display_data"
    }
   ],
   "source": [
    "plt.scatter([1,3,5],[2,4,6]) # Point 1=(1,2), Point 2=(3,4), Point 3=(5,6)\n",
    "plt.show()"
   ]
  },
  {
   "cell_type": "markdown",
   "metadata": {},
   "source": [
    "### Histogram\n",
    "plt.hist(values,bins)\n",
    "bins are the bracket in which the values which fulfil the criteria will be tallied, and displayed as a bar.\n",
    "bins usually only include the left side value on the number line (smaller value), with the exception of the last bin, which is inclusive of both left and right values."
   ]
  },
  {
   "cell_type": "code",
   "execution_count": 48,
   "metadata": {},
   "outputs": [
    {
     "data": {
      "text/plain": [
       "(array([1., 2., 3.]), array([0, 1, 2, 3]), <a list of 3 Patch objects>)"
      ]
     },
     "execution_count": 48,
     "metadata": {},
     "output_type": "execute_result"
    },
    {
     "data": {
      "image/png": "[encoded data removed]",
      "text/plain": [
       "<Figure size 432x288 with 1 Axes>"
      ]
     },
     "metadata": {
      "needs_background": "light"
     },
     "output_type": "display_data"
    }
   ],
   "source": [
    "x = [0,1,1.5,2,2.5,3,4,5]\n",
    "\n",
    "plt.hist(x,[0,1,2,3]) # 2nd argument is the bins inside which the number of values are tallied 0<=x<1, 1<=x<2, 2<=x<=3"
   ]
  },
  {
   "cell_type": "markdown",
   "metadata": {},
   "source": [
    "### Box Plot\n",
    "Box plot is really useful for easily determining the median, upper quartile and lower quartile.\n",
    "The points outside of the whiskers are known as outliers. "
   ]
  },
  {
   "cell_type": "code",
   "execution_count": 49,
   "metadata": {},
   "outputs": [
    {
     "data": {
      "text/plain": [
       "Text(0.5, 1.0, 'box plot')"
      ]
     },
     "execution_count": 49,
     "metadata": {},
     "output_type": "execute_result"
    },
    {
     "data": {
      "image/png": "[encoded data removed]",
      "text/plain": [
       "<Figure size 432x288 with 1 Axes>"
      ]
     },
     "metadata": {
      "needs_background": "light"
     },
     "output_type": "display_data"
    }
   ],
   "source": [
    "import numpy as np\n",
    "spread = np.random.rand(50) * 100\n",
    "center = np.ones(25) * 50\n",
    "flier_high = np.random.rand(10) * 100 + 100\n",
    "flier_low = np.random.rand(10) * -100\n",
    "data = np.concatenate((spread, center, flier_high, flier_low))\n",
    "#randomly generate values\n",
    "\n",
    "plt.boxplot(data)\n",
    "plt.title('box plot')"
   ]
  },
  {
   "cell_type": "markdown",
   "metadata": {},
   "source": [
    "### Bar Plot\n",
    "There are compulsory parameters in plt.bar(), first is the label of each bar. Below, this is in the form of a list called labels, containing the strings \"A\" and \"B\". Next parameter is the height, this is in [len(A),len(B)]. These 2 parameters are sufficient to plot a bar plots. Bar plots are important in comparing values of different categories, eg number of catlovers vs doglovers in SUTD"
   ]
  },
  {
   "cell_type": "code",
   "execution_count": 50,
   "metadata": {},
   "outputs": [
    {
     "data": {
      "text/plain": [
       "<BarContainer object of 2 artists>"
      ]
     },
     "execution_count": 50,
     "metadata": {},
     "output_type": "execute_result"
    },
    {
     "data": {
      "image/png": "[encoded data removed]",
      "text/plain": [
       "<Figure size 432x288 with 1 Axes>"
      ]
     },
     "metadata": {
      "needs_background": "light"
     },
     "output_type": "display_data"
    }
   ],
   "source": [
    "performance = [10,8,6,4,2,1]\n",
    "labels=[\"A\",\"B\"]\n",
    "A=[]\n",
    "B=[]\n",
    "for i in performance:\n",
    "    if i<5:\n",
    "        A+=[i]\n",
    "    else:\n",
    "        B+=[i]\n",
    "count=[len(A),len(B)]\n",
    "        \n",
    "plt.bar(labels,count)"
   ]
  },
  {
   "cell_type": "markdown",
   "metadata": {},
   "source": [
    "### Labelling\n",
    "To label the title of the graph, you use the function plt.title(\"Title Name\") and to label the horizontal and vertical axes, you use the functions plt.xlabel(\"Horizontal Axis Label\") and plt.ylabel(\"Vertical Axis Label\") respectivel."
   ]
  },
  {
   "cell_type": "code",
   "execution_count": 51,
   "metadata": {},
   "outputs": [
    {
     "data": {
      "image/png": "[encoded data removed]",
      "text/plain": [
       "<Figure size 432x288 with 1 Axes>"
      ]
     },
     "metadata": {
      "needs_background": "light"
     },
     "output_type": "display_data"
    }
   ],
   "source": [
    "plt.plot([1, 2, 3, 4])\n",
    "plt.title(\"Title\")\n",
    "plt.ylabel(\"y\")\n",
    "plt.xlabel(\"x\")\n",
    "plt.show()"
   ]
  }
 ],
 "metadata": {
  "kernelspec": {
   "display_name": "Python 3",
   "language": "python",
   "name": "python3"
  },
  "language_info": {
   "codemirror_mode": {
    "name": "ipython",
    "version": 3
   },
   "file_extension": ".py",
   "mimetype": "text/x-python",
   "name": "python",
   "nbconvert_exporter": "python",
   "pygments_lexer": "ipython3",
   "version": "3.7.3"
  }
 },
 "nbformat": 4,
 "nbformat_minor": 4
}
